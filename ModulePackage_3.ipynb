{
 "cells": [
  {
   "cell_type": "code",
   "execution_count": null,
   "metadata": {},
   "outputs": [
    {
     "name": "stdout",
     "output_type": "stream",
     "text": [
      "la moyenne de ma liste est 26.5\n"
     ]
    }
   ],
   "source": [
    "import statistics\n",
    "ma_liste=[0,28,37,64,55,6,37,28,3,7]\n",
    "n=statistics.mean(ma_liste)\n",
    "print(\"la moyenne de ma liste est {}\".format(n))"
   ]
  },
  {
   "cell_type": "code",
   "execution_count": 26,
   "metadata": {},
   "outputs": [
    {
     "name": "stdout",
     "output_type": "stream",
     "text": [
      "0.3743696340858438\n",
      "6\n",
      "3\n",
      "[39, 17, 8, 46, 38, 36, 4, 23, 35, 16]\n",
      "[1, 34, 6, 27, 4, 7, 0, 28]\n"
     ]
    }
   ],
   "source": [
    "#random choisit de manière aléatoire\n",
    "#random.seed(0) l'élément choisi se répète \n",
    "import random\n",
    "print(random.random())\n",
    "print(random.randint(5,10))\n",
    "print(random.randrange(10))\n",
    "print(random.sample(range(50), 10))\n",
    "print(random.sample(range(50), random.randrange(10)))"
   ]
  },
  {
   "cell_type": "code",
   "execution_count": null,
   "metadata": {},
   "outputs": [
    {
     "name": "stdout",
     "output_type": "stream",
     "text": [
      "c:\\Users\\HP\\OneDrive\\Documents\\Machine learning\n",
      "['Bonjour.txt', 'Cours_1.ipynb', 'dictionnare_2.ipynb', 'ModulePackage_3.ipynb']\n",
      "voici ce que contient le fichier txt: \n",
      "Bonjour !!!\n",
      "\n"
     ]
    }
   ],
   "source": [
    "import os\n",
    "print(os.getcwd()) #pour obtenir le chemin de mon dossier de travail\n",
    "import glob #qui permet de lister tous les fichiers dans notre répertoire de travail\n",
    "print(glob.glob(\"*\"))\n",
    "\n",
    "glob.glob(\"*.txt\") #lister tous les fichiers txt de notre repertoire de travail\n",
    "filenames=glob.glob(\"*.txt\") #un dossier contenant les fichiers txt de notre repertoire\n",
    "for file in filenames:\n",
    "   with open(file, 'r') as f: #ouvrir le dossier file\n",
    "      print(\"voici ce que contient le fichier txt: \")\n",
    "      print(f.read())\n"
   ]
  }
 ],
 "metadata": {
  "kernelspec": {
   "display_name": "Python 3",
   "language": "python",
   "name": "python3"
  },
  "language_info": {
   "codemirror_mode": {
    "name": "ipython",
    "version": 3
   },
   "file_extension": ".py",
   "mimetype": "text/x-python",
   "name": "python",
   "nbconvert_exporter": "python",
   "pygments_lexer": "ipython3",
   "version": "3.12.3"
  }
 },
 "nbformat": 4,
 "nbformat_minor": 2
}
