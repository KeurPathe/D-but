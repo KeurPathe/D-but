{
 "cells": [
  {
   "cell_type": "code",
   "execution_count": null,
   "metadata": {},
   "outputs": [
    {
     "name": "stdout",
     "output_type": "stream",
     "text": [
      "la moyenne de ma liste est 26.5\n"
     ]
    }
   ],
   "source": [
    "import statistics\n",
    "ma_liste=[0,28,37,64,55,6,37,28,3,7]\n",
    "n=statistics.mean(ma_liste)\n",
    "print(\"la moyenne de ma liste est {}\".format(n))"
   ]
  },
  {
   "cell_type": "code",
   "execution_count": 26,
   "metadata": {},
   "outputs": [
    {
     "name": "stdout",
     "output_type": "stream",
     "text": [
      "0.3743696340858438\n",
      "6\n",
      "3\n",
      "[39, 17, 8, 46, 38, 36, 4, 23, 35, 16]\n",
      "[1, 34, 6, 27, 4, 7, 0, 28]\n"
     ]
    }
   ],
   "source": [
    "#random choisit de manière aléatoire\n",
    "#random.seed(0) l'élément choisi se répète \n",
    "import random\n",
    "print(random.random())\n",
    "print(random.randint(5,10))\n",
    "print(random.randrange(10))\n",
    "print(random.sample(range(50), 10))\n",
    "print(random.sample(range(50), random.randrange(10)))"
   ]
  },
  {
   "cell_type": "code",
   "execution_count": 34,
   "metadata": {},
   "outputs": [
    {
     "name": "stdout",
     "output_type": "stream",
     "text": [
      "c:\\Users\\HP\\OneDrive\\Documents\\Machine learning\n",
      "['Bonjour.txt', 'Cours_1.ipynb', 'dictionnare_2.ipynb', 'ModulePackage_3.ipynb']\n",
      "voici ce que contient le fichier txt: \n",
      "Bonjour !!!\n",
      "\n"
     ]
    }
   ],
   "source": [
    "import os\n",
    "print(os.getcwd()) #pour obtenir le chemin de mon dossier de travail\n",
    "import glob #qui permet de lister tous les fichiers dans notre répertoire de travail\n",
    "print(glob.glob(\"*\"))\n",
    "\n",
    "glob.glob(\"*.txt\") #lister tous les fichiers txt de notre repertoire de travail\n",
    "filenames=glob.glob(\"*.txt\") #un dossier contenant les fichiers txt de notre repertoire\n",
    "for file in filenames:\n",
    "   with open(file, 'r') as f: #ouvrir le dossier file\n",
    "      print(\"voici ce que contient le fichier txt: \")\n",
    "      print(f.read())\n"
   ]
  },
  {
   "cell_type": "code",
   "execution_count": 36,
   "metadata": {},
   "outputs": [
    {
     "name": "stdout",
     "output_type": "stream",
     "text": [
      "['Bonjour\\xa0!!!']\n"
     ]
    }
   ],
   "source": [
    "#exemple avec les listes\n",
    "liste=[line for line in open(\"Bonjour.txt\", 'r')] # line.strip() permet d'éviter les \\n\n",
    "liste2=[line.strip() for line in open(\"Bonjour.txt\", 'r')] \n",
    "print(liste2)"
   ]
  },
  {
   "cell_type": "code",
   "execution_count": 38,
   "metadata": {},
   "outputs": [
    {
     "name": "stdout",
     "output_type": "stream",
     "text": [
      "Contenu de Bonjour.txt :\n",
      "Bonjour !!!\n",
      "\n",
      "\n"
     ]
    }
   ],
   "source": [
    "#Exercice\n",
    "import os\n",
    "import glob\n",
    "filenames=glob.glob(\"*.txt\")\n",
    "contenu_fichiers = {}\n",
    "\n",
    "for file in filenames:\n",
    "    with open(file, 'r') as f:\n",
    "        contenu_fichiers[file] = f.readlines()  #Lire le contenu du fichier et le stocker dans le dictionnaire\n",
    "\n",
    "for fichier, contenu in contenu_fichiers.items():\n",
    "    print(f\"Contenu de {fichier} :\")\n",
    "    for ligne in contenu:\n",
    "        print(ligne.strip())\n",
    "    print(\"\\n\")\n",
    "    "
   ]
  },
  {
   "cell_type": "code",
   "execution_count": null,
   "metadata": {},
   "outputs": [
    {
     "data": {
      "text/plain": [
       "array([[0.24887372, 0.24887372, 0.24887372, 0.24887372, 0.24887372,\n",
       "        5.        , 5.        , 5.        , 5.        , 5.        ],\n",
       "       [0.24887372, 0.24887372, 0.24887372, 0.24887372, 0.24887372,\n",
       "        5.        , 5.        , 5.        , 5.        , 5.        ],\n",
       "       [0.24887372, 0.24887372, 0.24887372, 0.24887372, 0.24887372,\n",
       "        5.        , 5.        , 5.        , 5.        , 5.        ]])"
      ]
     },
     "execution_count": 96,
     "metadata": {},
     "output_type": "execute_result"
    }
   ],
   "source": [
    "#Numpy .........................\n",
    "import numpy as np #les constructions et les méthodes de base\n",
    "tableau=np.array([5,4,3,2,3,4,5,4,5])\n",
    "tableau.ndim\n",
    "Zer=np.zeros((2,2))\n",
    "Un=np.ones((2,2))\n",
    "f=np.full((3,5), 5) #tous les éléments de notre tableau sont des 5\n",
    "aléatoire=np.random.randn(3,4)\n",
    "L=np.arange(1,4,0.5) #Un tableau de 1 à 4 avec un pas de 0.5\n",
    "\n",
    "f1=np.full((3,5),random.random())\n",
    "f2=np.full((3,5), 5)\n",
    "C1=np.hstack((f1,f2)) #coller les deux tableaux horizontalement\n",
    "C2=np.vstack((f1,f2)) #coller les deux tableaux verticalement\n",
    "#print(C1)\n",
    "#print(C2)\n",
    "#Une autre méthode pour la même chose est d'utiliser np.concatenate\n",
    "C3=np.concatenate((f1,f2), axis=1)#coller les deux tableaux verticalement si axis=1 alors horizontalement\n",
    "print(C3)\n",
    "#np.reshape permet de redimensionner le tableau\n"
   ]
  }
 ],
 "metadata": {
  "kernelspec": {
   "display_name": "Python 3",
   "language": "python",
   "name": "python3"
  },
  "language_info": {
   "codemirror_mode": {
    "name": "ipython",
    "version": 3
   },
   "file_extension": ".py",
   "mimetype": "text/x-python",
   "name": "python",
   "nbconvert_exporter": "python",
   "pygments_lexer": "ipython3",
   "version": "3.12.3"
  }
 },
 "nbformat": 4,
 "nbformat_minor": 2
}
