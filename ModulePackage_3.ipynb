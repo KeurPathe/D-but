{
 "cells": [
  {
   "cell_type": "code",
   "execution_count": null,
   "metadata": {},
   "outputs": [
    {
     "name": "stdout",
     "output_type": "stream",
     "text": [
      "la moyenne de ma liste est 26.5\n"
     ]
    }
   ],
   "source": [
    "import statistics\n",
    "ma_liste=[0,28,37,64,55,6,37,28,3,7]\n",
    "n=statistics.mean(ma_liste)\n",
    "print(\"la moyenne de ma liste est {}\".format(n))\n"
   ]
  }
 ],
 "metadata": {
  "kernelspec": {
   "display_name": "Python 3",
   "language": "python",
   "name": "python3"
  },
  "language_info": {
   "codemirror_mode": {
    "name": "ipython",
    "version": 3
   },
   "file_extension": ".py",
   "mimetype": "text/x-python",
   "name": "python",
   "nbconvert_exporter": "python",
   "pygments_lexer": "ipython3",
   "version": "3.12.3"
  }
 },
 "nbformat": 4,
 "nbformat_minor": 2
}
