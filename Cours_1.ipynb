{
 "cells": [
  {
   "cell_type": "code",
   "execution_count": 1,
   "metadata": {},
   "outputs": [
    {
     "name": "stdout",
     "output_type": "stream",
     "text": [
      "Python: 3.12.3 (tags/v3.12.3:f6650f9, Apr  9 2024, 14:05:25) [MSC v.1938 64 bit (AMD64)]\n"
     ]
    }
   ],
   "source": [
    "import sys\n",
    "print('Python: {}'.format(sys.version))"
   ]
  },
  {
   "cell_type": "code",
   "execution_count": 3,
   "metadata": {},
   "outputs": [
    {
     "name": "stdout",
     "output_type": "stream",
     "text": [
      "scipy: 1.15.1\n"
     ]
    }
   ],
   "source": [
    "import scipy\n",
    "print('scipy: {}'.format(scipy.__version__))"
   ]
  },
  {
   "cell_type": "code",
   "execution_count": 4,
   "metadata": {},
   "outputs": [
    {
     "name": "stdout",
     "output_type": "stream",
     "text": [
      "numpy: 1.26.4\n"
     ]
    }
   ],
   "source": [
    "import numpy as np\n",
    "print('numpy: {}'.format(np.__version__))"
   ]
  },
  {
   "cell_type": "code",
   "execution_count": 1,
   "metadata": {},
   "outputs": [
    {
     "name": "stdout",
     "output_type": "stream",
     "text": [
      "5\n"
     ]
    }
   ],
   "source": [
    "f= lambda x, y :x**2 +y\n",
    "print(f(2,1))"
   ]
  },
  {
   "cell_type": "code",
   "execution_count": null,
   "metadata": {},
   "outputs": [],
   "source": [
    "def e_potentielle(masse, hauteur, g):#masse et hauteur sont les keywords\n",
    "    E=masse*hauteur*g #g étant une constante on peut mettre à l'intérieur de notre fonction g=9.8\n",
    "    print(E, 'joule')"
   ]
  },
  {
   "cell_type": "code",
   "execution_count": null,
   "metadata": {},
   "outputs": [
    {
     "name": "stdout",
     "output_type": "stream",
     "text": [
      "(\"l 'énergie est \", 98.0, 'joule')\n"
     ]
    }
   ],
   "source": [
    "#Exercice Ajouter une énergie limite et voire si l'énergie calculer est supérieur à l'énergier limite\n",
    "def e_energie(masse , hauteur , e_limite, g=9.8):\n",
    "    E=masse*hauteur*g\n",
    "    if E < e_limite:\n",
    "        return (\"l 'énergie est \", E, \"joule\")\n",
    "    else:\n",
    "        return None\n",
    "\n",
    "print(e_energie(5,2,150))"
   ]
  },
  {
   "cell_type": "code",
   "execution_count": 27,
   "metadata": {},
   "outputs": [
    {
     "name": "stdout",
     "output_type": "stream",
     "text": [
      "False\n"
     ]
    }
   ],
   "source": [
    "#ou bien de type booleen \n",
    "def e_energie(masse , hauteur , e_limite, g=9.8):\n",
    "    E=masse*hauteur*g\n",
    "    return E < e_limite \n",
    "print(e_energie(5,5,8))"
   ]
  },
  {
   "cell_type": "code",
   "execution_count": 8,
   "metadata": {},
   "outputs": [
    {
     "name": "stdout",
     "output_type": "stream",
     "text": [
      "0   1   1   2   3   5   "
     ]
    }
   ],
   "source": [
    "#la suite de fibonacci\n",
    "def fibo(n):\n",
    "    if n==0: return 0\n",
    "    if n==1: return 1\n",
    "    else:\n",
    "        m=fibo(n-1)+fibo(n-2)\n",
    "    \n",
    "        return m\n",
    "n=6\n",
    "for i in range(n):\n",
    " print(fibo(i),\"  \" , end=\"\")"
   ]
  },
  {
   "cell_type": "code",
   "execution_count": 14,
   "metadata": {},
   "outputs": [
    {
     "name": "stdout",
     "output_type": "stream",
     "text": [
      "['maroc', 'sénégal', 'keur pathé', 'benin', 'togo', 'mauritanie', 'mali', 'gambie']\n"
     ]
    }
   ],
   "source": [
    "liste=['maroc', 'sénégal', 'benin', 'togo', 'mauritanie', 'mali', 'gambie']\n",
    "#technique de slicing pour accéder à plusieurs éléments \n",
    "#print(liste[0:2])\n",
    "liste.insert(2, 'keur pathé')\n",
    "print(liste)"
   ]
  },
  {
   "cell_type": "code",
   "execution_count": 18,
   "metadata": {},
   "outputs": [
    {
     "name": "stdout",
     "output_type": "stream",
     "text": [
      "[0, 1, 1, 2, 3, 5]\n"
     ]
    }
   ],
   "source": [
    "def fibo(n):\n",
    "    if n==0:return 0\n",
    "    if n==1: return 1\n",
    "    else:\n",
    "        m=fibo(n-1)+fibo(n-2)\n",
    "        m\n",
    "        return m\n",
    "n=6\n",
    "liste=[]\n",
    "for i in range(n):\n",
    "  liste.append(fibo(i))\n",
    "print(liste)"
   ]
  }
 ],
 "metadata": {
  "kernelspec": {
   "display_name": "Python 3",
   "language": "python",
   "name": "python3"
  },
  "language_info": {
   "codemirror_mode": {
    "name": "ipython",
    "version": 3
   },
   "file_extension": ".py",
   "mimetype": "text/x-python",
   "name": "python",
   "nbconvert_exporter": "python",
   "pygments_lexer": "ipython3",
   "version": "3.12.3"
  }
 },
 "nbformat": 4,
 "nbformat_minor": 2
}
