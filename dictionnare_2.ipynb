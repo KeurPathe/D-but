{
 "cells": [
  {
   "cell_type": "code",
   "execution_count": 10,
   "metadata": {},
   "outputs": [
    {
     "name": "stdout",
     "output_type": "stream",
     "text": [
      "dict_values([123, 456])\n",
      "dict_keys(['nom', 'prenom'])\n",
      "{'nom': 123, 'prenom': 456, 'moi': 453}\n"
     ]
    }
   ],
   "source": [
    "dict={'nom': 123 , 'prenom' : 456}\n",
    "print(dict.values())\n",
    "print(dict.keys())\n",
    "dict['nom']\n",
    "dict['moi']=453\n",
    "print(dict)"
   ]
  },
  {
   "cell_type": "code",
   "execution_count": 19,
   "metadata": {},
   "outputs": [
    {
     "name": "stdout",
     "output_type": "stream",
     "text": [
      "mangue n existe pas dans le dictionnaire\n",
      "fruit\n"
     ]
    }
   ],
   "source": [
    "#permet d'obtenir un clé qui n'est sur de son existance et retourne none(par défaut) s'il n'existe pas\n",
    "dicte={'banane':'fruit' , 'pomme': 'fruit'}\n",
    "print(dicte.get('mangue', 'mangue n existe pas dans le dictionnaire'))\n",
    "print(dicte.get('banane', 'mangue n existe pas dans le dictionnaire'))"
   ]
  },
  {
   "cell_type": "code",
   "execution_count": 21,
   "metadata": {},
   "outputs": [
    {
     "data": {
      "text/plain": [
       "{'banane': 'fruit', 'mangue': 'fruit', 'pomme': 'fruit'}"
      ]
     },
     "execution_count": 21,
     "metadata": {},
     "output_type": "execute_result"
    }
   ],
   "source": [
    "#pour affecter à tous les éléments de notre liste une valeur\n",
    "liste=['banane','mangue','pomme']\n",
    "diction={}\n",
    "diction.fromkeys(liste, 'fruit')"
   ]
  },
  {
   "cell_type": "code",
   "execution_count": 26,
   "metadata": {},
   "outputs": [
    {
     "name": "stdout",
     "output_type": "stream",
     "text": [
      "ENSA-M\n",
      "{'Nom': 'SAMB', 'prénom': 'Cheikh', 'Age': 25}\n"
     ]
    }
   ],
   "source": [
    "#la fonction pop retire un (key,value) et return value\n",
    "mon_dict={'Nom': 'SAMB', 'prénom': 'Cheikh', 'Age': 25, 'Ecole': 'ENSA-M'}\n",
    "print(mon_dict.pop('Ecole'))\n",
    "print(mon_dict)"
   ]
  },
  {
   "cell_type": "code",
   "execution_count": 32,
   "metadata": {},
   "outputs": [
    {
     "name": "stdout",
     "output_type": "stream",
     "text": [
      "Nom :  SAMB\n",
      "prénom :  Cheikh\n",
      "Age :  25\n",
      "Ecole :  ENSA-M\n"
     ]
    }
   ],
   "source": [
    "#utilisation avec les boucles for\n",
    "mon_dict={'Nom': 'SAMB', 'prénom': 'Cheikh', 'Age': 25, 'Ecole': 'ENSA-M'}\n",
    "#for i in mon_dict: #ou bien for i in mon_dict.keys()\n",
    "    #print(i)#affiche les keys \n",
    "#for i in mon_dict.values():\n",
    "    #print(i)#affiche les keys \n",
    "#pour afficher les deux à la fois\n",
    "for i, j in mon_dict.items():\n",
    "    print(i,\": \",j)#affiche les keys "
   ]
  },
  {
   "cell_type": "code",
   "execution_count": 49,
   "metadata": {},
   "outputs": [
    {
     "name": "stdout",
     "output_type": "stream",
     "text": [
      "{'positif': [10, 9, 8, 7, 6, 5, 4, 3, 2, 1, 0], 'negatif': [-1, -2, -3, -4, -5, -6, -7, -8, -9]}\n",
      "0.012808799743652344\n"
     ]
    }
   ],
   "source": [
    "#exercice\n",
    "import time\n",
    "start=time.time()\n",
    "classeur={\n",
    "    'positif':[],\n",
    "    'negatif':[] \n",
    "    }\n",
    "\n",
    "def ranger(classeur,nombre):\n",
    "    if nombre<0:\n",
    "        classeur['negatif'].append(nombre)\n",
    "    else:\n",
    "        classeur['positif'].append(nombre)\n",
    "\n",
    "\n",
    "    return classeur\n",
    "m={}\n",
    "for i in range(10, -10 ,-1):\n",
    "   m=ranger(classeur,i)\n",
    "print(m)\n",
    "end=time.time()\n",
    "print(end-start)"
   ]
  },
  {
   "cell_type": "code",
   "execution_count": 46,
   "metadata": {},
   "outputs": [
    {
     "name": "stdout",
     "output_type": "stream",
     "text": [
      "{0: 'samb', 1: 'cheikh', 2: 'ENSA-M', 3: '123'}\n"
     ]
    }
   ],
   "source": [
    "#technique des listes et dictionnaires compehension\n",
    "ma_liste=['samb','cheikh','ENSA-M','123']\n",
    "dico={k:v for k , v in enumerate(ma_liste)}\n",
    "print(dico)"
   ]
  },
  {
   "cell_type": "code",
   "execution_count": 47,
   "metadata": {},
   "outputs": [
    {
     "name": "stdout",
     "output_type": "stream",
     "text": [
      "{'modou': 35, 'samba': 23, 'khoudjia': 59, 'pathe': 63, 'demba': 92}\n"
     ]
    }
   ],
   "source": [
    "prenom=['modou','samba','khoudjia','pathe','demba','samba']\n",
    "ages=[35,38,59,63,92,23]\n",
    "dic={nom:age for nom,age in zip(prenom,ages)}\n",
    "print(dic)"
   ]
  },
  {
   "cell_type": "code",
   "execution_count": null,
   "metadata": {},
   "outputs": [
    {
     "name": "stdout",
     "output_type": "stream",
     "text": [
      "{0: 0, 1: 1, 2: 4, 3: 9, 4: 16, 5: 25, 6: 36, 7: 49, 8: 64, 9: 81, 10: 100, 11: 121, 12: 144, 13: 169, 14: 196, 15: 225, 16: 256, 17: 289, 18: 324, 19: 361, 20: 400}\n",
      "<class 'dict'>\n"
     ]
    }
   ],
   "source": [
    "#exercice\n",
    "mon_dico={k:k**2 for k in range(21)}\n",
    "print(mon_dico)"
   ]
  }
 ],
 "metadata": {
  "kernelspec": {
   "display_name": "Python 3",
   "language": "python",
   "name": "python3"
  },
  "language_info": {
   "codemirror_mode": {
    "name": "ipython",
    "version": 3
   },
   "file_extension": ".py",
   "mimetype": "text/x-python",
   "name": "python",
   "nbconvert_exporter": "python",
   "pygments_lexer": "ipython3",
   "version": "3.12.3"
  }
 },
 "nbformat": 4,
 "nbformat_minor": 2
}
